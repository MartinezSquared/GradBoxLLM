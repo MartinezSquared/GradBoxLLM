{
 "cells": [
  {
   "cell_type": "code",
   "execution_count": 1,
   "metadata": {},
   "outputs": [],
   "source": [
    "import keyring\n",
    "import sys\n",
    "import os\n",
    "\n",
    "# Add the src directory to sys.path\n",
    "try:\n",
    "    script_dir = os.path.dirname(os.path.abspath(__file__))\n",
    "except NameError:\n",
    "    script_dir = os.getcwd()\n",
    "\n",
    "src_dir = os.path.join(script_dir, \"src\")\n",
    "sys.path.insert(0, src_dir)\n",
    "\n",
    "# Correct import statements:\n",
    "from pdfPathDict import pdfPathDict\n",
    "from prefixPdf import prefixPdf\n",
    "from promptGeminiPDF import promptGeminiPDF\n",
    "\n",
    "# Safely import Google API Key\n",
    "googleApi = keyring.get_password(\"GradBoxLLM\", \"GOOGLE_API_KEY\")\n",
    "textbookFolderPath = \"../googleDrive/assets/textbooks\""
   ]
  },
  {
   "cell_type": "code",
   "execution_count": 2,
   "metadata": {},
   "outputs": [],
   "source": [
    "pdfPathDict = pdfPathDict(textbookFolderPath)\n"
   ]
  },
  {
   "cell_type": "code",
   "execution_count": 3,
   "metadata": {},
   "outputs": [
    {
     "name": "stdout",
     "output_type": "stream",
     "text": [
      "medicalSurgicalNursing-AssessmentAndManagementOfClincialProblems /Users/william/github/GradBoxLLM/googleDrive/assets/textbooks/medicalSurgicalNursing-AssessmentAndManagementOfClincialProblems.pdf\n",
      "medicalSurgicalNursing-ConceptsAndPractice /Users/william/github/GradBoxLLM/googleDrive/assets/textbooks/medicalSurgicalNursing-ConceptsAndPractice.pdf\n",
      "medicalSurgicalNursing /Users/william/github/GradBoxLLM/googleDrive/assets/textbooks/medicalSurgicalNursing.pdf\n"
     ]
    },
    {
     "name": "stderr",
     "output_type": "stream",
     "text": [
      "Object 25743 0 not defined.\n",
      "Object 25743 0 not defined.\n"
     ]
    },
    {
     "name": "stdout",
     "output_type": "stream",
     "text": [
      "medicalSurgicalNursing copy /Users/william/github/GradBoxLLM/googleDrive/assets/textbooks/medicalSurgicalNursing copy.pdf\n"
     ]
    }
   ],
   "source": [
    "for key, value in pdfPathDict.items():\n",
    "    print(key, value)\n",
    "    numPages = 20\n",
    "    pdfPath = value\n",
    "    outputPath = f\"../googleDrive/assets/prefixPdf/{key}-prefix.pdf\"\n",
    "    prefixPdf(pdfPath, outputPath, numPages)\n"
   ]
  },
  {
   "cell_type": "code",
   "execution_count": 4,
   "metadata": {},
   "outputs": [
    {
     "name": "stdout",
     "output_type": "stream",
     "text": [
      "{'medicalSurgicalNursing-AssessmentAndManagementOfClincialProblems': '/Users/william/github/GradBoxLLM/googleDrive/assets/textbooks/medicalSurgicalNursing-AssessmentAndManagementOfClincialProblems.pdf', 'medicalSurgicalNursing-ConceptsAndPractice': '/Users/william/github/GradBoxLLM/googleDrive/assets/textbooks/medicalSurgicalNursing-ConceptsAndPractice.pdf', 'medicalSurgicalNursing': '/Users/william/github/GradBoxLLM/googleDrive/assets/textbooks/medicalSurgicalNursing.pdf', 'medicalSurgicalNursing copy': '/Users/william/github/GradBoxLLM/googleDrive/assets/textbooks/medicalSurgicalNursing copy.pdf'}\n"
     ]
    }
   ],
   "source": [
    "print(pdfPathDict)"
   ]
  },
  {
   "cell_type": "code",
   "execution_count": null,
   "metadata": {},
   "outputs": [],
   "source": []
  }
 ],
 "metadata": {
  "kernelspec": {
   "display_name": "GradBoxExp",
   "language": "python",
   "name": "gradboxexp"
  },
  "language_info": {
   "codemirror_mode": {
    "name": "ipython",
    "version": 3
   },
   "file_extension": ".py",
   "mimetype": "text/x-python",
   "name": "python",
   "nbconvert_exporter": "python",
   "pygments_lexer": "ipython3",
   "version": "3.10.16"
  }
 },
 "nbformat": 4,
 "nbformat_minor": 2
}
